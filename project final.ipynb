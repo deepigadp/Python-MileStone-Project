{
 "cells": [
  {
   "cell_type": "code",
   "execution_count": 1,
   "id": "8bd92b06-9df4-4ab8-8a56-0433a5ca2512",
   "metadata": {},
   "outputs": [
    {
     "name": "stdin",
     "output_type": "stream",
     "text": [
      "Create a new 4-digit PIN:  1111\n",
      "Confirm the new 4-digit PIN:  1111\n"
     ]
    },
    {
     "name": "stdout",
     "output_type": "stream",
     "text": [
      "New PIN created successfully \n",
      "\n"
     ]
    },
    {
     "name": "stdin",
     "output_type": "stream",
     "text": [
      "Enter your 4-digit PIN:  1111\n"
     ]
    },
    {
     "name": "stdout",
     "output_type": "stream",
     "text": [
      "Please select an option from 1 to 4 \n",
      " 1. Check Balance \n",
      " 2. Deposit \n",
      " 3. Withdraw \n",
      " 4. Exit\n"
     ]
    },
    {
     "name": "stdin",
     "output_type": "stream",
     "text": [
      "Enter your option:  1\n"
     ]
    },
    {
     "name": "stdout",
     "output_type": "stream",
     "text": [
      "Your account balance is 10000\n",
      "Please select an option from 1 to 4 \n",
      " 1. Check Balance \n",
      " 2. Deposit \n",
      " 3. Withdraw \n",
      " 4. Exit\n"
     ]
    },
    {
     "name": "stdin",
     "output_type": "stream",
     "text": [
      "Enter your option:  1\n"
     ]
    },
    {
     "name": "stdout",
     "output_type": "stream",
     "text": [
      "Your account balance is 10000\n",
      "Please select an option from 1 to 4 \n",
      " 1. Check Balance \n",
      " 2. Deposit \n",
      " 3. Withdraw \n",
      " 4. Exit\n"
     ]
    },
    {
     "name": "stdin",
     "output_type": "stream",
     "text": [
      "Enter your option:  4\n"
     ]
    },
    {
     "name": "stdout",
     "output_type": "stream",
     "text": [
      "Thank you for using the ATM\n"
     ]
    }
   ],
   "source": [
    "class ATM:\n",
    "    def __init__(self, balance = 10000):\n",
    "        self.balance = int(balance)\n",
    "\n",
    "    def check_balance(self):\n",
    "        return \"Your account balance is {}\".format(self.balance)\n",
    "\n",
    "    def deposit(self, amount):\n",
    "        try:\n",
    "            amount = int(amount)\n",
    "            if amount <= 0:\n",
    "                return ValueError(\"Deposit amount must be a positive integer.\")\n",
    "            self.balance += amount\n",
    "            return f\"Deposited {amount}. Your new balance is {self.balance}\"\n",
    "        except ValueError as e:\n",
    "            return f\"Error: {e}\"\n",
    "\n",
    "    def withdraw(self, amount):\n",
    "        try:\n",
    "            amount = int(amount)\n",
    "            if amount <= 0:\n",
    "                return ValueError(\"Withdrawal amount must be a positive integer.\")\n",
    "            if self.balance >= amount:\n",
    "                self.balance -= amount\n",
    "                return f\"Withdrew {amount}. Your new balance is {self.balance}\"\n",
    "            else:\n",
    "                return f\"Insufficient funds for withdrawal.\"\n",
    "        except ValueError as e:\n",
    "            return f\"Error: {e}\"\n",
    "\n",
    "# Stores the user's PIN\n",
    "user_pin = \"\"\n",
    "\n",
    "# create an instance\n",
    "atm = ATM()\n",
    "\n",
    "while True:\n",
    "    if not user_pin:\n",
    "        create_new_pin = input(\"Create a new 4-digit PIN: \")\n",
    "        confirm_new_pin = input(\"Confirm the new 4-digit PIN: \")\n",
    "        if create_new_pin == confirm_new_pin and len(create_new_pin) == 4 and create_new_pin.isdigit():\n",
    "            user_pin = confirm_new_pin\n",
    "            print(\"New PIN created successfully \\n\")\n",
    "        else:\n",
    "            print(\"Invalid PIN format or PINs do not match. Please enter a valid 4-digit PIN.\")\n",
    "            continue\n",
    "\n",
    "    get_pin = input(\"Enter your 4-digit PIN: \")\n",
    "\n",
    "    if get_pin == user_pin:\n",
    "        while True:\n",
    "            print(\"Please select an option from 1 to 4 \\n 1. Check Balance \\n 2. Deposit \\n 3. Withdraw \\n 4. Exit\")\n",
    "            choice = input(\"Enter your option: \")\n",
    "            if choice == \"1\":\n",
    "                print(atm.check_balance())\n",
    "            elif choice == \"2\":\n",
    "                amount = input(\"Enter the deposit amount: \")\n",
    "                print(atm.deposit(amount))\n",
    "            elif choice == \"3\":\n",
    "                amount = input(\"Enter the withdrawal amount: \")\n",
    "                print(atm.withdraw(amount))\n",
    "            elif choice == \"4\":\n",
    "                print(\"Thank you for using the ATM\")\n",
    "                break\n",
    "            else:\n",
    "                print(\"Invalid Option\")\n",
    "        break\n",
    "    else:\n",
    "        print(\"PIN not recognized. Please try again.\")"
   ]
  },
  {
   "cell_type": "markdown",
   "id": "8cebd996-902d-403c-97c3-6604feb84034",
   "metadata": {},
   "source": []
  }
 ],
 "metadata": {
  "kernelspec": {
   "display_name": "Python 3 (ipykernel)",
   "language": "python",
   "name": "python3"
  },
  "language_info": {
   "codemirror_mode": {
    "name": "ipython",
    "version": 3
   },
   "file_extension": ".py",
   "mimetype": "text/x-python",
   "name": "python",
   "nbconvert_exporter": "python",
   "pygments_lexer": "ipython3",
   "version": "3.11.7"
  }
 },
 "nbformat": 4,
 "nbformat_minor": 5
}
